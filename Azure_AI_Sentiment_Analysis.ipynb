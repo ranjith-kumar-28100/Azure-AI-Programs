{
 "cells": [
  {
   "cell_type": "code",
   "execution_count": 1,
   "metadata": {},
   "outputs": [],
   "source": [
    "from dotenv import load_dotenv\n",
    "import os\n",
    "from azure.core.credentials import AzureKeyCredential\n",
    "from azure.ai.textanalytics import TextAnalyticsClient"
   ]
  },
  {
   "cell_type": "code",
   "execution_count": 2,
   "metadata": {},
   "outputs": [],
   "source": [
    "load_dotenv(\".env\")\n",
    "credential = AzureKeyCredential(os.getenv(\"apikey\"))\n",
    "text_analytics_client = TextAnalyticsClient(endpoint=os.getenv(\"endpoint\"),credential=credential)"
   ]
  },
  {
   "cell_type": "code",
   "execution_count": 4,
   "metadata": {},
   "outputs": [],
   "source": [
    "reviews = [\"The rooms were clean, very comfortable, and the staff was amazing. They went over and beyond to help make our stay enjoyable. I highly recommend this hotel for anyone visiting downtown.\",\"the electricity of the room was always going off even with the key inserted!\",\"bed and pillow covers ar nasty 🤢\",\"Size of the bed was too small....we were staying with 4 year old kid...so we have to upgrade our room to suit room..\",\"I expected a comfortable stay and I got that.\"]"
   ]
  },
  {
   "cell_type": "code",
   "execution_count": 5,
   "metadata": {},
   "outputs": [],
   "source": [
    "sentiment_analysis = text_analytics_client.analyze_sentiment(reviews,language=\"en\")"
   ]
  },
  {
   "cell_type": "code",
   "execution_count": 8,
   "metadata": {},
   "outputs": [
    {
     "data": {
      "text/plain": [
       "[AnalyzeSentimentResult(id=0, sentiment=positive, warnings=[], statistics=None, confidence_scores=SentimentConfidenceScores(positive=1.0, neutral=0.0, negative=0.0), sentences=[SentenceSentiment(text=The rooms were clean, very comfortable, and the staff was amazing. , sentiment=positive, confidence_scores=SentimentConfidenceScores(positive=1.0, neutral=0.0, negative=0.0), length=67, offset=0, mined_opinions=[]), SentenceSentiment(text=They went over and beyond to help make our stay enjoyable. , sentiment=positive, confidence_scores=SentimentConfidenceScores(positive=1.0, neutral=0.0, negative=0.0), length=59, offset=67, mined_opinions=[]), SentenceSentiment(text=I highly recommend this hotel for anyone visiting downtown., sentiment=positive, confidence_scores=SentimentConfidenceScores(positive=1.0, neutral=0.0, negative=0.0), length=59, offset=126, mined_opinions=[])], detected_language=None, is_error=False),\n",
       " AnalyzeSentimentResult(id=1, sentiment=neutral, warnings=[], statistics=None, confidence_scores=SentimentConfidenceScores(positive=0.08, neutral=0.83, negative=0.09), sentences=[SentenceSentiment(text=the electricity of the room was always going off even with the key inserted!, sentiment=neutral, confidence_scores=SentimentConfidenceScores(positive=0.08, neutral=0.83, negative=0.09), length=76, offset=0, mined_opinions=[])], detected_language=None, is_error=False),\n",
       " AnalyzeSentimentResult(id=2, sentiment=negative, warnings=[], statistics=None, confidence_scores=SentimentConfidenceScores(positive=0.0, neutral=0.02, negative=0.98), sentences=[SentenceSentiment(text=bed and pillow covers ar nasty 🤢, sentiment=negative, confidence_scores=SentimentConfidenceScores(positive=0.0, neutral=0.02, negative=0.98), length=32, offset=0, mined_opinions=[])], detected_language=None, is_error=False),\n",
       " AnalyzeSentimentResult(id=3, sentiment=negative, warnings=[], statistics=None, confidence_scores=SentimentConfidenceScores(positive=0.0, neutral=0.0, negative=1.0), sentences=[SentenceSentiment(text=Size of the bed was too small...., sentiment=negative, confidence_scores=SentimentConfidenceScores(positive=0.0, neutral=0.0, negative=1.0), length=33, offset=0, mined_opinions=[]), SentenceSentiment(text=we were staying with 4 year old kid..., sentiment=neutral, confidence_scores=SentimentConfidenceScores(positive=0.25, neutral=0.73, negative=0.02), length=38, offset=33, mined_opinions=[]), SentenceSentiment(text=so we have to upgrade our room to suit room.., sentiment=neutral, confidence_scores=SentimentConfidenceScores(positive=0.17, neutral=0.78, negative=0.05), length=45, offset=71, mined_opinions=[])], detected_language=None, is_error=False),\n",
       " AnalyzeSentimentResult(id=4, sentiment=positive, warnings=[], statistics=None, confidence_scores=SentimentConfidenceScores(positive=0.97, neutral=0.02, negative=0.0), sentences=[SentenceSentiment(text=I expected a comfortable stay and I got that., sentiment=positive, confidence_scores=SentimentConfidenceScores(positive=0.97, neutral=0.02, negative=0.0), length=45, offset=0, mined_opinions=[])], detected_language=None, is_error=False)]"
      ]
     },
     "execution_count": 8,
     "metadata": {},
     "output_type": "execute_result"
    }
   ],
   "source": [
    "result = [res for res in sentiment_analysis if not res.is_error]\n",
    "result"
   ]
  },
  {
   "cell_type": "code",
   "execution_count": 9,
   "metadata": {},
   "outputs": [
    {
     "data": {
      "text/plain": [
       "['id',\n",
       " 'sentiment',\n",
       " 'warnings',\n",
       " 'statistics',\n",
       " 'confidence_scores',\n",
       " 'sentences',\n",
       " 'detected_language',\n",
       " 'is_error',\n",
       " 'kind']"
      ]
     },
     "execution_count": 9,
     "metadata": {},
     "output_type": "execute_result"
    }
   ],
   "source": [
    "result[0].keys()"
   ]
  },
  {
   "cell_type": "code",
   "execution_count": 14,
   "metadata": {},
   "outputs": [
    {
     "name": "stdout",
     "output_type": "stream",
     "text": [
      "Id: 0\n",
      "Sentence: The rooms were clean, very comfortable, and the staff was amazing. \n",
      "Overall Sentiment: positive\n",
      "Positive Score: 1.0\n",
      "Negative Score: 0.0\n",
      "Neutral Score: 0.0\n",
      "Id: 1\n",
      "Sentence: the electricity of the room was always going off even with the key inserted!\n",
      "Overall Sentiment: neutral\n",
      "Positive Score: 0.08\n",
      "Negative Score: 0.09\n",
      "Neutral Score: 0.83\n",
      "Id: 2\n",
      "Sentence: bed and pillow covers ar nasty 🤢\n",
      "Overall Sentiment: negative\n",
      "Positive Score: 0.0\n",
      "Negative Score: 0.98\n",
      "Neutral Score: 0.02\n",
      "Id: 3\n",
      "Sentence: Size of the bed was too small....\n",
      "Overall Sentiment: negative\n",
      "Positive Score: 0.0\n",
      "Negative Score: 1.0\n",
      "Neutral Score: 0.0\n",
      "Id: 4\n",
      "Sentence: I expected a comfortable stay and I got that.\n",
      "Overall Sentiment: positive\n",
      "Positive Score: 0.97\n",
      "Negative Score: 0.0\n",
      "Neutral Score: 0.02\n"
     ]
    }
   ],
   "source": [
    "for res in result:\n",
    "    print(f\"Id: {res.id}\")\n",
    "    print(f\"Sentence: {res.sentences[0].text}\")\n",
    "    print(f\"Overall Sentiment: {res.sentiment}\")\n",
    "    print(f\"Positive Score: {res.confidence_scores.positive}\")\n",
    "    print(f\"Negative Score: {res.confidence_scores.negative}\")\n",
    "    print(f\"Neutral Score: {res.confidence_scores.neutral}\")"
   ]
  },
  {
   "cell_type": "code",
   "execution_count": null,
   "metadata": {},
   "outputs": [],
   "source": []
  },
  {
   "cell_type": "code",
   "execution_count": null,
   "metadata": {},
   "outputs": [],
   "source": []
  }
 ],
 "metadata": {
  "kernelspec": {
   "display_name": "base",
   "language": "python",
   "name": "python3"
  },
  "language_info": {
   "codemirror_mode": {
    "name": "ipython",
    "version": 3
   },
   "file_extension": ".py",
   "mimetype": "text/x-python",
   "name": "python",
   "nbconvert_exporter": "python",
   "pygments_lexer": "ipython3",
   "version": "3.9.13"
  },
  "orig_nbformat": 4,
  "vscode": {
   "interpreter": {
    "hash": "ae9226d693027601aceae575eedf350f61d5dcad848992823f4124ba0f6253a8"
   }
  }
 },
 "nbformat": 4,
 "nbformat_minor": 2
}
